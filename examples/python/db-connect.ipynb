{
 "cells": [
  {
   "cell_type": "markdown",
   "metadata": {},
   "source": [
    "# Connecting to Data Dashboard "
   ]
  },
  {
   "cell_type": "code",
   "execution_count": 2,
   "metadata": {
    "collapsed": true
   },
   "outputs": [],
   "source": [
    "db_ip = \"10.0.2.2\"  #docker's localhost bridge IP is 10.0.2.2"
   ]
  },
  {
   "cell_type": "markdown",
   "metadata": {},
   "source": [
    "Verify connectability to db (should see \"Connected ...\"):"
   ]
  },
  {
   "cell_type": "code",
   "execution_count": 3,
   "metadata": {
    "collapsed": false
   },
   "outputs": [
    {
     "name": "stdout",
     "output_type": "stream",
     "text": [
      "Trying 10.0.2.2...\n",
      "Connected to 10.0.2.2.\n",
      "Escape character is '^]'.\n",
      "J\u0000\u0000\u0000\n",
      "5.6.19\u0000+\u0000\u0000\u0000Zfo|DyU!\u0000\b\u0002\u0000�\u0015\u0000\u0000\u0000\u0000\u0000\u0000\u0000\u0000\u0000\u0000BeYl3XD+Jr~D\u0000mysql_native_password\u0000Connection closed by foreign host.\n"
     ]
    }
   ],
   "source": [
    "!telnet {db_ip} 3306"
   ]
  },
  {
   "cell_type": "markdown",
   "metadata": {},
   "source": [
    "Define connection info (Be sure to verify that the DB actually exists):"
   ]
  },
  {
   "cell_type": "code",
   "execution_count": 4,
   "metadata": {
    "collapsed": false
   },
   "outputs": [],
   "source": [
    "connect_kwargs = {\"host\": db_ip, \n",
    "                  \"port\": 3306, \n",
    "                  \"user\": \"root\",\n",
    "                  \"passwd\": \"\",\n",
    "                  \"db\": \"dd_new\"}"
   ]
  },
  {
   "cell_type": "markdown",
   "metadata": {},
   "source": [
    "Connect to the database:"
   ]
  },
  {
   "cell_type": "code",
   "execution_count": 5,
   "metadata": {
    "collapsed": true
   },
   "outputs": [],
   "source": [
    "import MySQLdb\n",
    "conn = MySQLdb.connect(**connect_kwargs)"
   ]
  },
  {
   "cell_type": "markdown",
   "metadata": {},
   "source": [
    "Define the simple SQL query and run the query into a Dictionary cursor:\n",
    "Result is the number of rows selected."
   ]
  },
  {
   "cell_type": "code",
   "execution_count": 6,
   "metadata": {
    "collapsed": true
   },
   "outputs": [],
   "source": [
    "sql = \"\"\"SELECT * FROM ddapi_persistent\n",
    "LIMIT 1000;\"\"\""
   ]
  },
  {
   "cell_type": "code",
   "execution_count": 7,
   "metadata": {
    "collapsed": false
   },
   "outputs": [
    {
     "data": {
      "text/plain": [
       "1000"
      ]
     },
     "execution_count": 7,
     "metadata": {},
     "output_type": "execute_result"
    }
   ],
   "source": [
    "dict_curs = conn.cursor(MySQLdb.cursors.DictCursor)\n",
    "dict_curs.execute(sql)"
   ]
  },
  {
   "cell_type": "markdown",
   "metadata": {},
   "source": [
    "Iterate over the data set. Each row goes into a separate dictionary. Columns are just keys for each dictionary.\n",
    "Note that because of the `fetchall()`, you have to re-execute the SQL query in order to print items again."
   ]
  },
  {
   "cell_type": "code",
   "execution_count": 8,
   "metadata": {
    "collapsed": false
   },
   "outputs": [
    {
     "name": "stdout",
     "output_type": "stream",
     "text": [
      "{'created': datetime.datetime(2012, 9, 28, 13, 47, 29), 'hash': 'd0f9bec4175fa0cd8738bdac9b5aaad4', 'id': 1}\n",
      "{'created': datetime.datetime(2012, 9, 28, 13, 54, 38), 'hash': 'eba9524b6f55ece61f537e5be6bca0a8', 'id': 2}\n",
      "{'created': datetime.datetime(2012, 9, 28, 13, 57), 'hash': '028b64e0c4aa92242dee62618daa466d', 'id': 3}\n",
      "{'created': datetime.datetime(2012, 9, 28, 13, 58, 58), 'hash': '420890de6d4502294404608684259c38', 'id': 4}\n",
      "{'created': datetime.datetime(2012, 9, 28, 14, 0, 9), 'hash': '96e4f672259a43fb729b43f771185983', 'id': 5}\n",
      "{'created': datetime.datetime(2012, 9, 28, 14, 2, 19), 'hash': '2ae0326e8c14225de2b289fb307ebc7b', 'id': 6}\n",
      "{'created': datetime.datetime(2012, 9, 28, 14, 4, 39), 'hash': '2cfabc6619277e8a2fc7222d963d8636', 'id': 7}\n",
      "{'created': datetime.datetime(2012, 9, 28, 14, 7, 55), 'hash': 'd42fce44339a6483c22a430a0a74709f', 'id': 8}\n",
      "{'created': datetime.datetime(2012, 9, 28, 14, 8, 25), 'hash': '81728b805ec37c994ae2c5e596957bac', 'id': 9}\n",
      "{'created': datetime.datetime(2012, 9, 28, 14, 11, 46), 'hash': '501d0e7a44484ebe0fd0d42c7d6811a4', 'id': 10}\n"
     ]
    }
   ],
   "source": [
    "num_rows_to_display = 10\n",
    "i = 0\n",
    "rows = dict_curs.fetchall()\n",
    "for row in rows:\n",
    "    i += 1\n",
    "    if i > num_rows_to_display:\n",
    "        break\n",
    "    print(row)"
   ]
  },
  {
   "cell_type": "markdown",
   "metadata": {},
   "source": [
    "**pandas** gives us dataframes are a lot easier to manipulate typically:"
   ]
  },
  {
   "cell_type": "code",
   "execution_count": 9,
   "metadata": {
    "collapsed": true
   },
   "outputs": [],
   "source": [
    "import pandas as pd"
   ]
  },
  {
   "cell_type": "code",
   "execution_count": 10,
   "metadata": {
    "collapsed": false
   },
   "outputs": [
    {
     "data": {
      "text/html": [
       "<div style=\"max-height:1000px;max-width:1500px;overflow:auto;\">\n",
       "<table border=\"1\" class=\"dataframe\">\n",
       "  <thead>\n",
       "    <tr style=\"text-align: right;\">\n",
       "      <th></th>\n",
       "      <th>id</th>\n",
       "      <th>hash</th>\n",
       "      <th>created</th>\n",
       "    </tr>\n",
       "  </thead>\n",
       "  <tbody>\n",
       "    <tr>\n",
       "      <th>0</th>\n",
       "      <td>1</td>\n",
       "      <td>d0f9bec4175fa0cd8738bdac9b5aaad4</td>\n",
       "      <td>2012-09-28 13:47:29</td>\n",
       "    </tr>\n",
       "    <tr>\n",
       "      <th>1</th>\n",
       "      <td>2</td>\n",
       "      <td>eba9524b6f55ece61f537e5be6bca0a8</td>\n",
       "      <td>2012-09-28 13:54:38</td>\n",
       "    </tr>\n",
       "    <tr>\n",
       "      <th>2</th>\n",
       "      <td>3</td>\n",
       "      <td>028b64e0c4aa92242dee62618daa466d</td>\n",
       "      <td>2012-09-28 13:57:00</td>\n",
       "    </tr>\n",
       "    <tr>\n",
       "      <th>3</th>\n",
       "      <td>4</td>\n",
       "      <td>420890de6d4502294404608684259c38</td>\n",
       "      <td>2012-09-28 13:58:58</td>\n",
       "    </tr>\n",
       "    <tr>\n",
       "      <th>4</th>\n",
       "      <td>5</td>\n",
       "      <td>96e4f672259a43fb729b43f771185983</td>\n",
       "      <td>2012-09-28 14:00:09</td>\n",
       "    </tr>\n",
       "    <tr>\n",
       "      <th>5</th>\n",
       "      <td>6</td>\n",
       "      <td>2ae0326e8c14225de2b289fb307ebc7b</td>\n",
       "      <td>2012-09-28 14:02:19</td>\n",
       "    </tr>\n",
       "    <tr>\n",
       "      <th>6</th>\n",
       "      <td>7</td>\n",
       "      <td>2cfabc6619277e8a2fc7222d963d8636</td>\n",
       "      <td>2012-09-28 14:04:39</td>\n",
       "    </tr>\n",
       "    <tr>\n",
       "      <th>7</th>\n",
       "      <td>8</td>\n",
       "      <td>d42fce44339a6483c22a430a0a74709f</td>\n",
       "      <td>2012-09-28 14:07:55</td>\n",
       "    </tr>\n",
       "    <tr>\n",
       "      <th>8</th>\n",
       "      <td>9</td>\n",
       "      <td>81728b805ec37c994ae2c5e596957bac</td>\n",
       "      <td>2012-09-28 14:08:25</td>\n",
       "    </tr>\n",
       "    <tr>\n",
       "      <th>9</th>\n",
       "      <td>10</td>\n",
       "      <td>501d0e7a44484ebe0fd0d42c7d6811a4</td>\n",
       "      <td>2012-09-28 14:11:46</td>\n",
       "    </tr>\n",
       "    <tr>\n",
       "      <th>10</th>\n",
       "      <td>11</td>\n",
       "      <td>e33c9a422ccb7109947dd0b6fb5c2c32</td>\n",
       "      <td>2012-09-28 14:18:39</td>\n",
       "    </tr>\n",
       "    <tr>\n",
       "      <th>11</th>\n",
       "      <td>12</td>\n",
       "      <td>d477528bd345fc53dc13cdd43803ee7f</td>\n",
       "      <td>2012-09-28 14:22:10</td>\n",
       "    </tr>\n",
       "    <tr>\n",
       "      <th>12</th>\n",
       "      <td>13</td>\n",
       "      <td>4ce366ff081a634f7d6a60dae1d9fef4</td>\n",
       "      <td>2012-09-28 14:24:46</td>\n",
       "    </tr>\n",
       "    <tr>\n",
       "      <th>13</th>\n",
       "      <td>14</td>\n",
       "      <td>9ac6213199b9a2f6eff983bca20f6653</td>\n",
       "      <td>2012-09-28 14:24:59</td>\n",
       "    </tr>\n",
       "    <tr>\n",
       "      <th>14</th>\n",
       "      <td>15</td>\n",
       "      <td>21370c3080e97e4c5e643d31a57c4f79</td>\n",
       "      <td>2012-09-28 14:35:05</td>\n",
       "    </tr>\n",
       "    <tr>\n",
       "      <th>15</th>\n",
       "      <td>16</td>\n",
       "      <td>2271b8a8e9f8c81b13b3f45c67d856e0</td>\n",
       "      <td>2012-09-28 14:36:15</td>\n",
       "    </tr>\n",
       "    <tr>\n",
       "      <th>16</th>\n",
       "      <td>17</td>\n",
       "      <td>3c8d94f8693cec01d75c83624d55a39d</td>\n",
       "      <td>2012-09-28 14:38:05</td>\n",
       "    </tr>\n",
       "    <tr>\n",
       "      <th>17</th>\n",
       "      <td>18</td>\n",
       "      <td>bfb6cfca78fc593e983c50767f8730a5</td>\n",
       "      <td>2012-09-28 14:38:27</td>\n",
       "    </tr>\n",
       "    <tr>\n",
       "      <th>18</th>\n",
       "      <td>19</td>\n",
       "      <td>1a09f3cfbaef02f5dbf31573e3499d24</td>\n",
       "      <td>2012-09-28 14:40:12</td>\n",
       "    </tr>\n",
       "    <tr>\n",
       "      <th>19</th>\n",
       "      <td>20</td>\n",
       "      <td>39b967a72e5d36387afe117d83f9d4e9</td>\n",
       "      <td>2012-09-28 14:42:53</td>\n",
       "    </tr>\n",
       "    <tr>\n",
       "      <th>20</th>\n",
       "      <td>21</td>\n",
       "      <td>f75e7c6c7a63de50988f37cc253ee036</td>\n",
       "      <td>2012-09-28 14:44:19</td>\n",
       "    </tr>\n",
       "    <tr>\n",
       "      <th>21</th>\n",
       "      <td>22</td>\n",
       "      <td>0c13745b629031873ca9c24991128dfa</td>\n",
       "      <td>2012-09-28 14:44:33</td>\n",
       "    </tr>\n",
       "    <tr>\n",
       "      <th>22</th>\n",
       "      <td>23</td>\n",
       "      <td>01e4bf050e3894ca832aa578d2e05ed9</td>\n",
       "      <td>2012-09-28 14:51:00</td>\n",
       "    </tr>\n",
       "    <tr>\n",
       "      <th>23</th>\n",
       "      <td>24</td>\n",
       "      <td>b334cfecdc35dd918eb3c7e25348063f</td>\n",
       "      <td>2012-09-28 14:52:09</td>\n",
       "    </tr>\n",
       "    <tr>\n",
       "      <th>24</th>\n",
       "      <td>25</td>\n",
       "      <td>df4d6ff5f8deccdd977dc9b67bb0e1c0</td>\n",
       "      <td>2012-09-28 14:52:55</td>\n",
       "    </tr>\n",
       "    <tr>\n",
       "      <th>25</th>\n",
       "      <td>26</td>\n",
       "      <td>5be456400314ce124fcbba1aca7d8298</td>\n",
       "      <td>2012-09-28 14:59:54</td>\n",
       "    </tr>\n",
       "    <tr>\n",
       "      <th>26</th>\n",
       "      <td>27</td>\n",
       "      <td>70c82ab432a8bb69d7fb67dc87b7524d</td>\n",
       "      <td>2012-09-28 15:02:10</td>\n",
       "    </tr>\n",
       "    <tr>\n",
       "      <th>27</th>\n",
       "      <td>28</td>\n",
       "      <td>1954fa183589f1036be4ac8e8ba801cd</td>\n",
       "      <td>2012-09-28 15:02:14</td>\n",
       "    </tr>\n",
       "    <tr>\n",
       "      <th>28</th>\n",
       "      <td>29</td>\n",
       "      <td>923697ed4b75e47d6052ca526f9347c1</td>\n",
       "      <td>2012-09-28 15:14:08</td>\n",
       "    </tr>\n",
       "    <tr>\n",
       "      <th>29</th>\n",
       "      <td>30</td>\n",
       "      <td>d8589961e366ef46036ba4ac80a4ac3c</td>\n",
       "      <td>2012-09-28 15:18:48</td>\n",
       "    </tr>\n",
       "    <tr>\n",
       "      <th>...</th>\n",
       "      <td>...</td>\n",
       "      <td>...</td>\n",
       "      <td>...</td>\n",
       "    </tr>\n",
       "    <tr>\n",
       "      <th>970</th>\n",
       "      <td>971</td>\n",
       "      <td>9fe1ea43d816a075d2ef17a38cb8db5d</td>\n",
       "      <td>2012-10-03 06:50:07</td>\n",
       "    </tr>\n",
       "    <tr>\n",
       "      <th>971</th>\n",
       "      <td>972</td>\n",
       "      <td>958e197fee78b2289ef0d3ac640f2c89</td>\n",
       "      <td>2012-10-03 08:00:50</td>\n",
       "    </tr>\n",
       "    <tr>\n",
       "      <th>972</th>\n",
       "      <td>973</td>\n",
       "      <td>558da89d1d4242d89125d238afb2fe9d</td>\n",
       "      <td>2012-10-03 08:19:03</td>\n",
       "    </tr>\n",
       "    <tr>\n",
       "      <th>973</th>\n",
       "      <td>974</td>\n",
       "      <td>a6c76e17c9b74224e3453d8abe94f5a2</td>\n",
       "      <td>2012-10-03 08:26:51</td>\n",
       "    </tr>\n",
       "    <tr>\n",
       "      <th>974</th>\n",
       "      <td>975</td>\n",
       "      <td>38c39b01d02642f43219208d18cd0bea</td>\n",
       "      <td>2012-10-03 08:26:54</td>\n",
       "    </tr>\n",
       "    <tr>\n",
       "      <th>975</th>\n",
       "      <td>976</td>\n",
       "      <td>7d19817738dbc858340e241cd123a465</td>\n",
       "      <td>2012-10-03 08:43:00</td>\n",
       "    </tr>\n",
       "    <tr>\n",
       "      <th>976</th>\n",
       "      <td>977</td>\n",
       "      <td>f857ad64b92d0d433d4a49770645b308</td>\n",
       "      <td>2012-10-03 08:51:46</td>\n",
       "    </tr>\n",
       "    <tr>\n",
       "      <th>977</th>\n",
       "      <td>978</td>\n",
       "      <td>b7f0305675fe51d0e7c4a306eb411103</td>\n",
       "      <td>2012-10-03 09:44:35</td>\n",
       "    </tr>\n",
       "    <tr>\n",
       "      <th>978</th>\n",
       "      <td>979</td>\n",
       "      <td>3971e1e159fca8a0e11a43ddd3e134ac</td>\n",
       "      <td>2012-10-03 09:53:25</td>\n",
       "    </tr>\n",
       "    <tr>\n",
       "      <th>979</th>\n",
       "      <td>980</td>\n",
       "      <td>93371255a45511f8a9f02e95e3a46dc4</td>\n",
       "      <td>2012-10-03 10:13:38</td>\n",
       "    </tr>\n",
       "    <tr>\n",
       "      <th>980</th>\n",
       "      <td>981</td>\n",
       "      <td>0d058e5f728751dc9f6a72d5828e2cf7</td>\n",
       "      <td>2012-10-03 11:04:22</td>\n",
       "    </tr>\n",
       "    <tr>\n",
       "      <th>981</th>\n",
       "      <td>982</td>\n",
       "      <td>e8e9d1a621c8631554ab4d4d536accbf</td>\n",
       "      <td>2012-10-03 11:16:43</td>\n",
       "    </tr>\n",
       "    <tr>\n",
       "      <th>982</th>\n",
       "      <td>983</td>\n",
       "      <td>9ca266817ad8c33f4272825c6e994002</td>\n",
       "      <td>2012-10-03 11:55:27</td>\n",
       "    </tr>\n",
       "    <tr>\n",
       "      <th>983</th>\n",
       "      <td>984</td>\n",
       "      <td>7741d92a90433dc640b863d07244221e</td>\n",
       "      <td>2012-10-03 12:01:58</td>\n",
       "    </tr>\n",
       "    <tr>\n",
       "      <th>984</th>\n",
       "      <td>985</td>\n",
       "      <td>766164f9b068603e390e0e3165c96d7c</td>\n",
       "      <td>2012-10-03 12:13:11</td>\n",
       "    </tr>\n",
       "    <tr>\n",
       "      <th>985</th>\n",
       "      <td>986</td>\n",
       "      <td>2996c08973fa9aa99872083070156b8f</td>\n",
       "      <td>2012-10-03 12:14:14</td>\n",
       "    </tr>\n",
       "    <tr>\n",
       "      <th>986</th>\n",
       "      <td>987</td>\n",
       "      <td>85c91640310a806d2a21ad4bfe3ea7a7</td>\n",
       "      <td>2012-10-03 12:43:11</td>\n",
       "    </tr>\n",
       "    <tr>\n",
       "      <th>987</th>\n",
       "      <td>988</td>\n",
       "      <td>67d0a0ac03f8f117454b2524beb4d406</td>\n",
       "      <td>2012-10-03 12:46:55</td>\n",
       "    </tr>\n",
       "    <tr>\n",
       "      <th>988</th>\n",
       "      <td>989</td>\n",
       "      <td>337115e7b1b5f15d1d4f7261d7f4f58e</td>\n",
       "      <td>2012-10-03 12:49:08</td>\n",
       "    </tr>\n",
       "    <tr>\n",
       "      <th>989</th>\n",
       "      <td>990</td>\n",
       "      <td>e623ee1431fa431b65985b87dfb84e3e</td>\n",
       "      <td>2012-10-03 12:56:57</td>\n",
       "    </tr>\n",
       "    <tr>\n",
       "      <th>990</th>\n",
       "      <td>991</td>\n",
       "      <td>5498e5fe70af5e5812fd432b32a882a7</td>\n",
       "      <td>2012-10-03 13:01:44</td>\n",
       "    </tr>\n",
       "    <tr>\n",
       "      <th>991</th>\n",
       "      <td>992</td>\n",
       "      <td>3f2fc1d5ef19898dc6540f9cdf56a4f3</td>\n",
       "      <td>2012-10-03 13:10:28</td>\n",
       "    </tr>\n",
       "    <tr>\n",
       "      <th>992</th>\n",
       "      <td>993</td>\n",
       "      <td>cc2551bc2143b9ed2245768aac6b3e87</td>\n",
       "      <td>2012-10-03 13:12:10</td>\n",
       "    </tr>\n",
       "    <tr>\n",
       "      <th>993</th>\n",
       "      <td>994</td>\n",
       "      <td>a18c25280394e25a29d78d1c214483dd</td>\n",
       "      <td>2012-10-03 13:13:19</td>\n",
       "    </tr>\n",
       "    <tr>\n",
       "      <th>994</th>\n",
       "      <td>995</td>\n",
       "      <td>ca91c3f5532fb7e274c8bb2736f12493</td>\n",
       "      <td>2012-10-03 13:15:57</td>\n",
       "    </tr>\n",
       "    <tr>\n",
       "      <th>995</th>\n",
       "      <td>996</td>\n",
       "      <td>4a8ecae629d3cd0bfa04086bed06ca90</td>\n",
       "      <td>2012-10-03 13:30:09</td>\n",
       "    </tr>\n",
       "    <tr>\n",
       "      <th>996</th>\n",
       "      <td>997</td>\n",
       "      <td>719aec4cc54b8b4bf333a835b3054aa6</td>\n",
       "      <td>2012-10-03 13:32:33</td>\n",
       "    </tr>\n",
       "    <tr>\n",
       "      <th>997</th>\n",
       "      <td>998</td>\n",
       "      <td>3b0154c5c6adcab8235e28351e12c98c</td>\n",
       "      <td>2012-10-03 13:33:25</td>\n",
       "    </tr>\n",
       "    <tr>\n",
       "      <th>998</th>\n",
       "      <td>999</td>\n",
       "      <td>a778f81052629c2605fd3c6a4d61cbbf</td>\n",
       "      <td>2012-10-03 13:48:38</td>\n",
       "    </tr>\n",
       "    <tr>\n",
       "      <th>999</th>\n",
       "      <td>1000</td>\n",
       "      <td>399bff06d0312eecc33ae91a834719b6</td>\n",
       "      <td>2012-10-03 13:48:38</td>\n",
       "    </tr>\n",
       "  </tbody>\n",
       "</table>\n",
       "<p>1000 rows × 3 columns</p>\n",
       "</div>"
      ],
      "text/plain": [
       "       id                              hash             created\n",
       "0       1  d0f9bec4175fa0cd8738bdac9b5aaad4 2012-09-28 13:47:29\n",
       "1       2  eba9524b6f55ece61f537e5be6bca0a8 2012-09-28 13:54:38\n",
       "2       3  028b64e0c4aa92242dee62618daa466d 2012-09-28 13:57:00\n",
       "3       4  420890de6d4502294404608684259c38 2012-09-28 13:58:58\n",
       "4       5  96e4f672259a43fb729b43f771185983 2012-09-28 14:00:09\n",
       "5       6  2ae0326e8c14225de2b289fb307ebc7b 2012-09-28 14:02:19\n",
       "6       7  2cfabc6619277e8a2fc7222d963d8636 2012-09-28 14:04:39\n",
       "7       8  d42fce44339a6483c22a430a0a74709f 2012-09-28 14:07:55\n",
       "8       9  81728b805ec37c994ae2c5e596957bac 2012-09-28 14:08:25\n",
       "9      10  501d0e7a44484ebe0fd0d42c7d6811a4 2012-09-28 14:11:46\n",
       "10     11  e33c9a422ccb7109947dd0b6fb5c2c32 2012-09-28 14:18:39\n",
       "11     12  d477528bd345fc53dc13cdd43803ee7f 2012-09-28 14:22:10\n",
       "12     13  4ce366ff081a634f7d6a60dae1d9fef4 2012-09-28 14:24:46\n",
       "13     14  9ac6213199b9a2f6eff983bca20f6653 2012-09-28 14:24:59\n",
       "14     15  21370c3080e97e4c5e643d31a57c4f79 2012-09-28 14:35:05\n",
       "15     16  2271b8a8e9f8c81b13b3f45c67d856e0 2012-09-28 14:36:15\n",
       "16     17  3c8d94f8693cec01d75c83624d55a39d 2012-09-28 14:38:05\n",
       "17     18  bfb6cfca78fc593e983c50767f8730a5 2012-09-28 14:38:27\n",
       "18     19  1a09f3cfbaef02f5dbf31573e3499d24 2012-09-28 14:40:12\n",
       "19     20  39b967a72e5d36387afe117d83f9d4e9 2012-09-28 14:42:53\n",
       "20     21  f75e7c6c7a63de50988f37cc253ee036 2012-09-28 14:44:19\n",
       "21     22  0c13745b629031873ca9c24991128dfa 2012-09-28 14:44:33\n",
       "22     23  01e4bf050e3894ca832aa578d2e05ed9 2012-09-28 14:51:00\n",
       "23     24  b334cfecdc35dd918eb3c7e25348063f 2012-09-28 14:52:09\n",
       "24     25  df4d6ff5f8deccdd977dc9b67bb0e1c0 2012-09-28 14:52:55\n",
       "25     26  5be456400314ce124fcbba1aca7d8298 2012-09-28 14:59:54\n",
       "26     27  70c82ab432a8bb69d7fb67dc87b7524d 2012-09-28 15:02:10\n",
       "27     28  1954fa183589f1036be4ac8e8ba801cd 2012-09-28 15:02:14\n",
       "28     29  923697ed4b75e47d6052ca526f9347c1 2012-09-28 15:14:08\n",
       "29     30  d8589961e366ef46036ba4ac80a4ac3c 2012-09-28 15:18:48\n",
       "..    ...                               ...                 ...\n",
       "970   971  9fe1ea43d816a075d2ef17a38cb8db5d 2012-10-03 06:50:07\n",
       "971   972  958e197fee78b2289ef0d3ac640f2c89 2012-10-03 08:00:50\n",
       "972   973  558da89d1d4242d89125d238afb2fe9d 2012-10-03 08:19:03\n",
       "973   974  a6c76e17c9b74224e3453d8abe94f5a2 2012-10-03 08:26:51\n",
       "974   975  38c39b01d02642f43219208d18cd0bea 2012-10-03 08:26:54\n",
       "975   976  7d19817738dbc858340e241cd123a465 2012-10-03 08:43:00\n",
       "976   977  f857ad64b92d0d433d4a49770645b308 2012-10-03 08:51:46\n",
       "977   978  b7f0305675fe51d0e7c4a306eb411103 2012-10-03 09:44:35\n",
       "978   979  3971e1e159fca8a0e11a43ddd3e134ac 2012-10-03 09:53:25\n",
       "979   980  93371255a45511f8a9f02e95e3a46dc4 2012-10-03 10:13:38\n",
       "980   981  0d058e5f728751dc9f6a72d5828e2cf7 2012-10-03 11:04:22\n",
       "981   982  e8e9d1a621c8631554ab4d4d536accbf 2012-10-03 11:16:43\n",
       "982   983  9ca266817ad8c33f4272825c6e994002 2012-10-03 11:55:27\n",
       "983   984  7741d92a90433dc640b863d07244221e 2012-10-03 12:01:58\n",
       "984   985  766164f9b068603e390e0e3165c96d7c 2012-10-03 12:13:11\n",
       "985   986  2996c08973fa9aa99872083070156b8f 2012-10-03 12:14:14\n",
       "986   987  85c91640310a806d2a21ad4bfe3ea7a7 2012-10-03 12:43:11\n",
       "987   988  67d0a0ac03f8f117454b2524beb4d406 2012-10-03 12:46:55\n",
       "988   989  337115e7b1b5f15d1d4f7261d7f4f58e 2012-10-03 12:49:08\n",
       "989   990  e623ee1431fa431b65985b87dfb84e3e 2012-10-03 12:56:57\n",
       "990   991  5498e5fe70af5e5812fd432b32a882a7 2012-10-03 13:01:44\n",
       "991   992  3f2fc1d5ef19898dc6540f9cdf56a4f3 2012-10-03 13:10:28\n",
       "992   993  cc2551bc2143b9ed2245768aac6b3e87 2012-10-03 13:12:10\n",
       "993   994  a18c25280394e25a29d78d1c214483dd 2012-10-03 13:13:19\n",
       "994   995  ca91c3f5532fb7e274c8bb2736f12493 2012-10-03 13:15:57\n",
       "995   996  4a8ecae629d3cd0bfa04086bed06ca90 2012-10-03 13:30:09\n",
       "996   997  719aec4cc54b8b4bf333a835b3054aa6 2012-10-03 13:32:33\n",
       "997   998  3b0154c5c6adcab8235e28351e12c98c 2012-10-03 13:33:25\n",
       "998   999  a778f81052629c2605fd3c6a4d61cbbf 2012-10-03 13:48:38\n",
       "999  1000  399bff06d0312eecc33ae91a834719b6 2012-10-03 13:48:38\n",
       "\n",
       "[1000 rows x 3 columns]"
      ]
     },
     "execution_count": 10,
     "metadata": {},
     "output_type": "execute_result"
    }
   ],
   "source": [
    "df = pd.read_sql(sql, conn)\n",
    "df"
   ]
  },
  {
   "cell_type": "markdown",
   "metadata": {},
   "source": [
    "Now save the dataframe to CSV in this directory..."
   ]
  },
  {
   "cell_type": "code",
   "execution_count": 11,
   "metadata": {
    "collapsed": true
   },
   "outputs": [],
   "source": [
    "file_out = \"persistent.csv\""
   ]
  },
  {
   "cell_type": "code",
   "execution_count": 12,
   "metadata": {
    "collapsed": true
   },
   "outputs": [],
   "source": [
    "df.to_csv(file_out)"
   ]
  },
  {
   "cell_type": "markdown",
   "metadata": {},
   "source": [
    "...and to the adjacent [R directory](../r/) so we can [analyze the data in r](../r/using-r.ipynb)."
   ]
  },
  {
   "cell_type": "code",
   "execution_count": 13,
   "metadata": {
    "collapsed": true
   },
   "outputs": [],
   "source": [
    "!cp {file_out} ../r/."
   ]
  }
 ],
 "metadata": {
  "kernelspec": {
   "display_name": "Python 3",
   "language": "python",
   "name": "python3"
  },
  "language_info": {
   "codemirror_mode": {
    "name": "ipython",
    "version": 3
   },
   "file_extension": ".py",
   "mimetype": "text/x-python",
   "name": "python",
   "nbconvert_exporter": "python",
   "pygments_lexer": "ipython3",
   "version": "3.4.3"
  }
 },
 "nbformat": 4,
 "nbformat_minor": 0
}
